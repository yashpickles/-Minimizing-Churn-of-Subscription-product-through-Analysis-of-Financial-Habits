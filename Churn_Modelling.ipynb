{
  "nbformat": 4,
  "nbformat_minor": 0,
  "metadata": {
    "colab": {
      "name": "Churn_Modelling.ipynb",
      "provenance": [],
      "collapsed_sections": [],
      "toc_visible": true,
      "authorship_tag": "ABX9TyM0Rdj421NnJGHGFwQb2AF1",
      "include_colab_link": true
    },
    "kernelspec": {
      "name": "python3",
      "display_name": "Python 3"
    }
  },
  "cells": [
    {
      "cell_type": "markdown",
      "metadata": {
        "id": "view-in-github",
        "colab_type": "text"
      },
      "source": [
        "<a href=\"https://colab.research.google.com/github/yashpickles/-Minimizing-Churn-of-Subscription-product-through-Analysis-of-Financial-Habits/blob/main/Churn_Modelling.ipynb\" target=\"_parent\"><img src=\"https://colab.research.google.com/assets/colab-badge.svg\" alt=\"Open In Colab\"/></a>"
      ]
    },
    {
      "cell_type": "markdown",
      "metadata": {
        "id": "1zv-Oq0q22dd"
      },
      "source": [
        "## **Case-Study:** **Minimizing Churn of Subscription product through Analysis of Financial Habits**\r\n",
        "## **-Yash Acharya**"
      ]
    },
    {
      "cell_type": "markdown",
      "metadata": {
        "id": "iDPWZg3528gE"
      },
      "source": [
        "### **1) Problem Statement**\r\n",
        "Subscription products often are the main source of revenue for the companies for all industries. These products can come in the form of a 'one size fits all' overcompassing subscription or in a multi-level memberships. Regardless of how they structure their memberships or what industries they are in. Companies almost always try to minimize Customer Churn(a.k.a subscription cancellations). To retain their customers these companies first need to identify behavioural patterns that act as a catalyst in disengagement with the product.\r\n",
        "\r\n",
        "**Market**: The target audience is the entirety of companies subscription. They are the ones that company wants. \r\n",
        "\r\n",
        "**Product**: The subcription products that the customers are already enrolled in can provide value that users may not have imagined or that they may have forgotten.\r\n",
        "\r\n",
        "**Goal**: The Objective of this model is to predict which users are most likely to churn, so that the company can focus on re-engaging these users with the product. These efforts can be email remainders about the benefits of the product, especially focusing on features that are new or that the user has shown to value. "
      ]
    },
    {
      "cell_type": "markdown",
      "metadata": {
        "id": "7lls6JNi3DOc"
      },
      "source": [
        "### **2) Importing the Libraries** "
      ]
    },
    {
      "cell_type": "code",
      "metadata": {
        "id": "1ignOGuH3WeF"
      },
      "source": [
        "import pandas as pd\r\n",
        "import numpy as np\r\n",
        "import matplotlib.pyplot as plt\r\n",
        "import seaborn as sns\r\n",
        "import random"
      ],
      "execution_count": 1,
      "outputs": []
    },
    {
      "cell_type": "markdown",
      "metadata": {
        "id": "UhuPcU6O3cEF"
      },
      "source": [
        "### **3) Importing the Dataset**"
      ]
    },
    {
      "cell_type": "code",
      "metadata": {
        "id": "vXUCNicb3tDm"
      },
      "source": [
        "dataset = pd.read_csv('New_churn_data1.csv')"
      ],
      "execution_count": 2,
      "outputs": []
    },
    {
      "cell_type": "markdown",
      "metadata": {
        "id": "SnnWNTj54CCU"
      },
      "source": [
        "### **4) Data Preparation**"
      ]
    },
    {
      "cell_type": "code",
      "metadata": {
        "id": "WdO9xfS74Jv1"
      },
      "source": [
        "user_identifier = dataset['user']\r\n",
        "dataset = dataset.drop(columns=['user'])"
      ],
      "execution_count": 3,
      "outputs": []
    },
    {
      "cell_type": "markdown",
      "metadata": {
        "id": "hKpKdc9U4gc8"
      },
      "source": [
        "### **5) Encoding**"
      ]
    },
    {
      "cell_type": "code",
      "metadata": {
        "id": "Do6tmCh34vh9"
      },
      "source": [
        "dataset.housing.value_counts()\r\n",
        "dataset.groupby('housing')['churn'].nunique().reset_index()\r\n",
        "dataset = pd.get_dummies(dataset)\r\n"
      ],
      "execution_count": 4,
      "outputs": []
    },
    {
      "cell_type": "code",
      "metadata": {
        "colab": {
          "base_uri": "https://localhost:8080/"
        },
        "id": "3Qi0N1vy5xJ0",
        "outputId": "b6b53a8e-98ed-4ced-9aa1-6d7bd501627c"
      },
      "source": [
        "dataset.columns"
      ],
      "execution_count": 5,
      "outputs": [
        {
          "output_type": "execute_result",
          "data": {
            "text/plain": [
              "Index(['churn', 'age', 'deposits', 'withdrawal', 'purchases_partners',\n",
              "       'purchases', 'cc_taken', 'cc_recommended', 'cc_disliked', 'cc_liked',\n",
              "       'cc_application_begin', 'app_downloaded', 'web_user', 'ios_user',\n",
              "       'android_user', 'registered_phones', 'waiting_4_loan', 'cancelled_loan',\n",
              "       'received_loan', 'rejected_loan', 'left_for_two_month_plus',\n",
              "       'left_for_one_month', 'reward_rate', 'is_referred', 'housing_O',\n",
              "       'housing_R', 'housing_na', 'payment_type_Bi-Weekly',\n",
              "       'payment_type_Monthly', 'payment_type_Semi-Monthly',\n",
              "       'payment_type_Weekly', 'payment_type_na', 'zodiac_sign_Aquarius',\n",
              "       'zodiac_sign_Aries', 'zodiac_sign_Cancer', 'zodiac_sign_Capricorn',\n",
              "       'zodiac_sign_Gemini', 'zodiac_sign_Leo', 'zodiac_sign_Libra',\n",
              "       'zodiac_sign_Pisces', 'zodiac_sign_Sagittarius', 'zodiac_sign_Scorpio',\n",
              "       'zodiac_sign_Taurus', 'zodiac_sign_Virgo', 'zodiac_sign_na'],\n",
              "      dtype='object')"
            ]
          },
          "metadata": {
            "tags": []
          },
          "execution_count": 5
        }
      ]
    },
    {
      "cell_type": "code",
      "metadata": {
        "id": "H3qvwdxn54VS"
      },
      "source": [
        "dataset = dataset.drop(columns=['housing_na', 'zodiac_sign_na', 'payment_type_na'])"
      ],
      "execution_count": 6,
      "outputs": []
    },
    {
      "cell_type": "markdown",
      "metadata": {
        "id": "6QybuKiJ7cmO"
      },
      "source": [
        "### **6) Splitting the Dataset into Training and Test set**"
      ]
    },
    {
      "cell_type": "code",
      "metadata": {
        "id": "6v5kZF7g7oCE"
      },
      "source": [
        "\r\n",
        "from sklearn.model_selection import train_test_split\r\n",
        "X_train, X_test, y_train, y_test = train_test_split(dataset.drop(columns = 'churn'), dataset['churn'],\r\n",
        "                                                    test_size = 0.2,\r\n",
        "                                                    random_state = 0)"
      ],
      "execution_count": 7,
      "outputs": []
    },
    {
      "cell_type": "markdown",
      "metadata": {
        "id": "m8wJudl48IPG"
      },
      "source": [
        "### **7) Balancing the Training set**"
      ]
    },
    {
      "cell_type": "code",
      "metadata": {
        "colab": {
          "base_uri": "https://localhost:8080/"
        },
        "id": "rdhwfCbv8s73",
        "outputId": "52fcf41e-62ef-448d-9f50-181558ce2b9a"
      },
      "source": [
        "y_train.value_counts()"
      ],
      "execution_count": 8,
      "outputs": [
        {
          "output_type": "execute_result",
          "data": {
            "text/plain": [
              "0    12656\n",
              "1     8940\n",
              "Name: churn, dtype: int64"
            ]
          },
          "metadata": {
            "tags": []
          },
          "execution_count": 8
        }
      ]
    },
    {
      "cell_type": "code",
      "metadata": {
        "id": "sYgDSgWN8zLd"
      },
      "source": [
        "pos_index = y_train[y_train.values == 1].index\r\n",
        "neg_index = y_train[y_train.values == 0].index\r\n",
        "\r\n",
        "if len(pos_index) > len(neg_index):\r\n",
        "    higher = pos_index\r\n",
        "    lower = neg_index\r\n",
        "else:\r\n",
        "    higher = neg_index\r\n",
        "    lower = pos_index\r\n"
      ],
      "execution_count": 9,
      "outputs": []
    },
    {
      "cell_type": "code",
      "metadata": {
        "id": "pwM4FV3u97qy"
      },
      "source": [
        "random.seed(0)\r\n",
        "higher = np.random.choice(higher, len(lower))\r\n",
        "lower = np.asarray(lower)\r\n",
        "new_indexes = np.concatenate((lower, higher))\r\n",
        "X_train = X_train.loc[new_indexes, ]\r\n",
        "y_train = y_train[new_indexes]"
      ],
      "execution_count": 10,
      "outputs": []
    },
    {
      "cell_type": "markdown",
      "metadata": {
        "id": "P7wwgVROA9kD"
      },
      "source": [
        "### **8) Feature Scalling**"
      ]
    },
    {
      "cell_type": "code",
      "metadata": {
        "id": "HGQKfxEOBGgH"
      },
      "source": [
        "from sklearn.preprocessing import StandardScaler\r\n",
        "sc_X = StandardScaler()\r\n",
        "X_train2 = pd.DataFrame(sc_X.fit_transform(X_train))\r\n",
        "X_test2 = pd.DataFrame(sc_X.transform(X_test))"
      ],
      "execution_count": 11,
      "outputs": []
    },
    {
      "cell_type": "code",
      "metadata": {
        "id": "bJ6SQkmRBVDX"
      },
      "source": [
        "X_train2.columns = X_train.columns.values\r\n",
        "X_test2.columns = X_test.columns.values\r\n",
        "X_train2.index = X_train.index.values\r\n",
        "X_test2.index = X_test.index.values\r\n",
        "X_train = X_train2\r\n",
        "X_test = X_test2"
      ],
      "execution_count": 12,
      "outputs": []
    },
    {
      "cell_type": "code",
      "metadata": {
        "colab": {
          "base_uri": "https://localhost:8080/",
          "height": 427
        },
        "id": "_Fj3ZlaWBbg-",
        "outputId": "e97b93ed-83f9-4d03-8292-d26dac41d222"
      },
      "source": [
        "X_train"
      ],
      "execution_count": 13,
      "outputs": [
        {
          "output_type": "execute_result",
          "data": {
            "text/html": [
              "<div>\n",
              "<style scoped>\n",
              "    .dataframe tbody tr th:only-of-type {\n",
              "        vertical-align: middle;\n",
              "    }\n",
              "\n",
              "    .dataframe tbody tr th {\n",
              "        vertical-align: top;\n",
              "    }\n",
              "\n",
              "    .dataframe thead th {\n",
              "        text-align: right;\n",
              "    }\n",
              "</style>\n",
              "<table border=\"1\" class=\"dataframe\">\n",
              "  <thead>\n",
              "    <tr style=\"text-align: right;\">\n",
              "      <th></th>\n",
              "      <th>age</th>\n",
              "      <th>deposits</th>\n",
              "      <th>withdrawal</th>\n",
              "      <th>purchases_partners</th>\n",
              "      <th>purchases</th>\n",
              "      <th>cc_taken</th>\n",
              "      <th>cc_recommended</th>\n",
              "      <th>cc_disliked</th>\n",
              "      <th>cc_liked</th>\n",
              "      <th>cc_application_begin</th>\n",
              "      <th>app_downloaded</th>\n",
              "      <th>web_user</th>\n",
              "      <th>ios_user</th>\n",
              "      <th>android_user</th>\n",
              "      <th>registered_phones</th>\n",
              "      <th>waiting_4_loan</th>\n",
              "      <th>cancelled_loan</th>\n",
              "      <th>received_loan</th>\n",
              "      <th>rejected_loan</th>\n",
              "      <th>left_for_two_month_plus</th>\n",
              "      <th>left_for_one_month</th>\n",
              "      <th>reward_rate</th>\n",
              "      <th>is_referred</th>\n",
              "      <th>housing_O</th>\n",
              "      <th>housing_R</th>\n",
              "      <th>payment_type_Bi-Weekly</th>\n",
              "      <th>payment_type_Monthly</th>\n",
              "      <th>payment_type_Semi-Monthly</th>\n",
              "      <th>payment_type_Weekly</th>\n",
              "      <th>zodiac_sign_Aquarius</th>\n",
              "      <th>zodiac_sign_Aries</th>\n",
              "      <th>zodiac_sign_Cancer</th>\n",
              "      <th>zodiac_sign_Capricorn</th>\n",
              "      <th>zodiac_sign_Gemini</th>\n",
              "      <th>zodiac_sign_Leo</th>\n",
              "      <th>zodiac_sign_Libra</th>\n",
              "      <th>zodiac_sign_Pisces</th>\n",
              "      <th>zodiac_sign_Sagittarius</th>\n",
              "      <th>zodiac_sign_Scorpio</th>\n",
              "      <th>zodiac_sign_Taurus</th>\n",
              "      <th>zodiac_sign_Virgo</th>\n",
              "    </tr>\n",
              "  </thead>\n",
              "  <tbody>\n",
              "    <tr>\n",
              "      <th>11695</th>\n",
              "      <td>-0.615443</td>\n",
              "      <td>-0.355603</td>\n",
              "      <td>-0.28729</td>\n",
              "      <td>-0.591356</td>\n",
              "      <td>-0.355366</td>\n",
              "      <td>-0.166126</td>\n",
              "      <td>-0.909690</td>\n",
              "      <td>-0.060402</td>\n",
              "      <td>-0.072766</td>\n",
              "      <td>-0.570011</td>\n",
              "      <td>0.225061</td>\n",
              "      <td>-1.246856</td>\n",
              "      <td>-0.808055</td>\n",
              "      <td>0.840302</td>\n",
              "      <td>-0.462817</td>\n",
              "      <td>-0.030849</td>\n",
              "      <td>-0.142735</td>\n",
              "      <td>-0.142939</td>\n",
              "      <td>-0.074237</td>\n",
              "      <td>-0.458602</td>\n",
              "      <td>-0.137337</td>\n",
              "      <td>-0.517490</td>\n",
              "      <td>-0.681802</td>\n",
              "      <td>-0.298299</td>\n",
              "      <td>1.231765</td>\n",
              "      <td>-0.940682</td>\n",
              "      <td>-0.328966</td>\n",
              "      <td>-0.317248</td>\n",
              "      <td>2.019431</td>\n",
              "      <td>3.472842</td>\n",
              "      <td>-0.281405</td>\n",
              "      <td>-0.312958</td>\n",
              "      <td>-0.157724</td>\n",
              "      <td>-0.292817</td>\n",
              "      <td>-0.310258</td>\n",
              "      <td>-0.288176</td>\n",
              "      <td>-0.293942</td>\n",
              "      <td>-0.286694</td>\n",
              "      <td>-0.294391</td>\n",
              "      <td>-0.299853</td>\n",
              "      <td>-0.319379</td>\n",
              "    </tr>\n",
              "    <tr>\n",
              "      <th>19766</th>\n",
              "      <td>-0.415583</td>\n",
              "      <td>-0.355603</td>\n",
              "      <td>-0.28729</td>\n",
              "      <td>-0.640121</td>\n",
              "      <td>-0.355366</td>\n",
              "      <td>-0.166126</td>\n",
              "      <td>0.323505</td>\n",
              "      <td>1.202751</td>\n",
              "      <td>-0.072766</td>\n",
              "      <td>-0.570011</td>\n",
              "      <td>0.225061</td>\n",
              "      <td>0.802017</td>\n",
              "      <td>-0.808055</td>\n",
              "      <td>0.840302</td>\n",
              "      <td>-0.462817</td>\n",
              "      <td>-0.030849</td>\n",
              "      <td>-0.142735</td>\n",
              "      <td>-0.142939</td>\n",
              "      <td>-0.074237</td>\n",
              "      <td>-0.458602</td>\n",
              "      <td>-0.137337</td>\n",
              "      <td>0.948999</td>\n",
              "      <td>-0.681802</td>\n",
              "      <td>-0.298299</td>\n",
              "      <td>-0.811843</td>\n",
              "      <td>1.063058</td>\n",
              "      <td>-0.328966</td>\n",
              "      <td>-0.317248</td>\n",
              "      <td>-0.495189</td>\n",
              "      <td>-0.287949</td>\n",
              "      <td>-0.281405</td>\n",
              "      <td>-0.312958</td>\n",
              "      <td>-0.157724</td>\n",
              "      <td>-0.292817</td>\n",
              "      <td>-0.310258</td>\n",
              "      <td>3.470097</td>\n",
              "      <td>-0.293942</td>\n",
              "      <td>-0.286694</td>\n",
              "      <td>-0.294391</td>\n",
              "      <td>-0.299853</td>\n",
              "      <td>-0.319379</td>\n",
              "    </tr>\n",
              "    <tr>\n",
              "      <th>8354</th>\n",
              "      <td>0.283930</td>\n",
              "      <td>-0.355603</td>\n",
              "      <td>-0.28729</td>\n",
              "      <td>-0.640121</td>\n",
              "      <td>-0.355366</td>\n",
              "      <td>-0.166126</td>\n",
              "      <td>2.013438</td>\n",
              "      <td>-0.060402</td>\n",
              "      <td>-0.072766</td>\n",
              "      <td>-0.244776</td>\n",
              "      <td>0.225061</td>\n",
              "      <td>0.802017</td>\n",
              "      <td>-0.808055</td>\n",
              "      <td>0.840302</td>\n",
              "      <td>-0.462817</td>\n",
              "      <td>-0.030849</td>\n",
              "      <td>-0.142735</td>\n",
              "      <td>-0.142939</td>\n",
              "      <td>-0.074237</td>\n",
              "      <td>-0.458602</td>\n",
              "      <td>-0.137337</td>\n",
              "      <td>1.388946</td>\n",
              "      <td>-0.681802</td>\n",
              "      <td>-0.298299</td>\n",
              "      <td>-0.811843</td>\n",
              "      <td>-0.940682</td>\n",
              "      <td>-0.328966</td>\n",
              "      <td>-0.317248</td>\n",
              "      <td>-0.495189</td>\n",
              "      <td>-0.287949</td>\n",
              "      <td>-0.281405</td>\n",
              "      <td>-0.312958</td>\n",
              "      <td>-0.157724</td>\n",
              "      <td>-0.292817</td>\n",
              "      <td>-0.310258</td>\n",
              "      <td>-0.288176</td>\n",
              "      <td>-0.293942</td>\n",
              "      <td>-0.286694</td>\n",
              "      <td>-0.294391</td>\n",
              "      <td>-0.299853</td>\n",
              "      <td>3.131074</td>\n",
              "    </tr>\n",
              "    <tr>\n",
              "      <th>17883</th>\n",
              "      <td>0.583721</td>\n",
              "      <td>-0.355603</td>\n",
              "      <td>-0.28729</td>\n",
              "      <td>0.042583</td>\n",
              "      <td>-0.355366</td>\n",
              "      <td>-0.166126</td>\n",
              "      <td>-0.178908</td>\n",
              "      <td>-0.060402</td>\n",
              "      <td>-0.072766</td>\n",
              "      <td>-0.000850</td>\n",
              "      <td>0.225061</td>\n",
              "      <td>0.802017</td>\n",
              "      <td>1.237539</td>\n",
              "      <td>-1.190049</td>\n",
              "      <td>-0.462817</td>\n",
              "      <td>-0.030849</td>\n",
              "      <td>-0.142735</td>\n",
              "      <td>-0.142939</td>\n",
              "      <td>-0.074237</td>\n",
              "      <td>-0.458602</td>\n",
              "      <td>-0.137337</td>\n",
              "      <td>-0.650807</td>\n",
              "      <td>1.466702</td>\n",
              "      <td>-0.298299</td>\n",
              "      <td>1.231765</td>\n",
              "      <td>-0.940682</td>\n",
              "      <td>-0.328966</td>\n",
              "      <td>-0.317248</td>\n",
              "      <td>2.019431</td>\n",
              "      <td>-0.287949</td>\n",
              "      <td>-0.281405</td>\n",
              "      <td>-0.312958</td>\n",
              "      <td>-0.157724</td>\n",
              "      <td>-0.292817</td>\n",
              "      <td>-0.310258</td>\n",
              "      <td>-0.288176</td>\n",
              "      <td>-0.293942</td>\n",
              "      <td>-0.286694</td>\n",
              "      <td>-0.294391</td>\n",
              "      <td>3.334971</td>\n",
              "      <td>-0.319379</td>\n",
              "    </tr>\n",
              "    <tr>\n",
              "      <th>25149</th>\n",
              "      <td>-0.815304</td>\n",
              "      <td>-0.240965</td>\n",
              "      <td>-0.28729</td>\n",
              "      <td>-0.103711</td>\n",
              "      <td>-0.238428</td>\n",
              "      <td>-0.166126</td>\n",
              "      <td>-0.578554</td>\n",
              "      <td>-0.060402</td>\n",
              "      <td>-0.072766</td>\n",
              "      <td>-0.244776</td>\n",
              "      <td>0.225061</td>\n",
              "      <td>-1.246856</td>\n",
              "      <td>1.237539</td>\n",
              "      <td>-1.190049</td>\n",
              "      <td>-0.462817</td>\n",
              "      <td>-0.030849</td>\n",
              "      <td>-0.142735</td>\n",
              "      <td>-0.142939</td>\n",
              "      <td>-0.074237</td>\n",
              "      <td>-0.458602</td>\n",
              "      <td>-0.137337</td>\n",
              "      <td>-0.557485</td>\n",
              "      <td>1.466702</td>\n",
              "      <td>-0.298299</td>\n",
              "      <td>1.231765</td>\n",
              "      <td>-0.940682</td>\n",
              "      <td>-0.328966</td>\n",
              "      <td>-0.317248</td>\n",
              "      <td>2.019431</td>\n",
              "      <td>-0.287949</td>\n",
              "      <td>-0.281405</td>\n",
              "      <td>-0.312958</td>\n",
              "      <td>-0.157724</td>\n",
              "      <td>-0.292817</td>\n",
              "      <td>-0.310258</td>\n",
              "      <td>-0.288176</td>\n",
              "      <td>3.402035</td>\n",
              "      <td>-0.286694</td>\n",
              "      <td>-0.294391</td>\n",
              "      <td>-0.299853</td>\n",
              "      <td>-0.319379</td>\n",
              "    </tr>\n",
              "    <tr>\n",
              "      <th>...</th>\n",
              "      <td>...</td>\n",
              "      <td>...</td>\n",
              "      <td>...</td>\n",
              "      <td>...</td>\n",
              "      <td>...</td>\n",
              "      <td>...</td>\n",
              "      <td>...</td>\n",
              "      <td>...</td>\n",
              "      <td>...</td>\n",
              "      <td>...</td>\n",
              "      <td>...</td>\n",
              "      <td>...</td>\n",
              "      <td>...</td>\n",
              "      <td>...</td>\n",
              "      <td>...</td>\n",
              "      <td>...</td>\n",
              "      <td>...</td>\n",
              "      <td>...</td>\n",
              "      <td>...</td>\n",
              "      <td>...</td>\n",
              "      <td>...</td>\n",
              "      <td>...</td>\n",
              "      <td>...</td>\n",
              "      <td>...</td>\n",
              "      <td>...</td>\n",
              "      <td>...</td>\n",
              "      <td>...</td>\n",
              "      <td>...</td>\n",
              "      <td>...</td>\n",
              "      <td>...</td>\n",
              "      <td>...</td>\n",
              "      <td>...</td>\n",
              "      <td>...</td>\n",
              "      <td>...</td>\n",
              "      <td>...</td>\n",
              "      <td>...</td>\n",
              "      <td>...</td>\n",
              "      <td>...</td>\n",
              "      <td>...</td>\n",
              "      <td>...</td>\n",
              "      <td>...</td>\n",
              "    </tr>\n",
              "    <tr>\n",
              "      <th>856</th>\n",
              "      <td>1.283233</td>\n",
              "      <td>-0.355603</td>\n",
              "      <td>-0.28729</td>\n",
              "      <td>-0.640121</td>\n",
              "      <td>-0.355366</td>\n",
              "      <td>1.958577</td>\n",
              "      <td>1.522444</td>\n",
              "      <td>1.202751</td>\n",
              "      <td>-0.072766</td>\n",
              "      <td>2.763642</td>\n",
              "      <td>0.225061</td>\n",
              "      <td>0.802017</td>\n",
              "      <td>1.237539</td>\n",
              "      <td>-1.190049</td>\n",
              "      <td>-0.462817</td>\n",
              "      <td>-0.030849</td>\n",
              "      <td>-0.142735</td>\n",
              "      <td>-0.142939</td>\n",
              "      <td>-0.074237</td>\n",
              "      <td>-0.458602</td>\n",
              "      <td>-0.137337</td>\n",
              "      <td>1.575590</td>\n",
              "      <td>-0.681802</td>\n",
              "      <td>-0.298299</td>\n",
              "      <td>1.231765</td>\n",
              "      <td>-0.940682</td>\n",
              "      <td>-0.328966</td>\n",
              "      <td>3.152107</td>\n",
              "      <td>-0.495189</td>\n",
              "      <td>-0.287949</td>\n",
              "      <td>-0.281405</td>\n",
              "      <td>3.195314</td>\n",
              "      <td>-0.157724</td>\n",
              "      <td>-0.292817</td>\n",
              "      <td>-0.310258</td>\n",
              "      <td>-0.288176</td>\n",
              "      <td>-0.293942</td>\n",
              "      <td>-0.286694</td>\n",
              "      <td>-0.294391</td>\n",
              "      <td>-0.299853</td>\n",
              "      <td>-0.319379</td>\n",
              "    </tr>\n",
              "    <tr>\n",
              "      <th>15423</th>\n",
              "      <td>1.383163</td>\n",
              "      <td>-0.355603</td>\n",
              "      <td>-0.28729</td>\n",
              "      <td>-0.640121</td>\n",
              "      <td>-0.355366</td>\n",
              "      <td>6.207982</td>\n",
              "      <td>1.853580</td>\n",
              "      <td>3.729059</td>\n",
              "      <td>-0.072766</td>\n",
              "      <td>0.812236</td>\n",
              "      <td>0.225061</td>\n",
              "      <td>0.802017</td>\n",
              "      <td>-0.808055</td>\n",
              "      <td>0.840302</td>\n",
              "      <td>-0.462817</td>\n",
              "      <td>-0.030849</td>\n",
              "      <td>-0.142735</td>\n",
              "      <td>-0.142939</td>\n",
              "      <td>-0.074237</td>\n",
              "      <td>-0.458602</td>\n",
              "      <td>-0.137337</td>\n",
              "      <td>1.882220</td>\n",
              "      <td>-0.681802</td>\n",
              "      <td>3.352341</td>\n",
              "      <td>-0.811843</td>\n",
              "      <td>1.063058</td>\n",
              "      <td>-0.328966</td>\n",
              "      <td>-0.317248</td>\n",
              "      <td>-0.495189</td>\n",
              "      <td>-0.287949</td>\n",
              "      <td>-0.281405</td>\n",
              "      <td>-0.312958</td>\n",
              "      <td>-0.157724</td>\n",
              "      <td>-0.292817</td>\n",
              "      <td>-0.310258</td>\n",
              "      <td>-0.288176</td>\n",
              "      <td>-0.293942</td>\n",
              "      <td>-0.286694</td>\n",
              "      <td>3.396847</td>\n",
              "      <td>-0.299853</td>\n",
              "      <td>-0.319379</td>\n",
              "    </tr>\n",
              "    <tr>\n",
              "      <th>4097</th>\n",
              "      <td>0.983442</td>\n",
              "      <td>2.395715</td>\n",
              "      <td>-0.28729</td>\n",
              "      <td>-0.323151</td>\n",
              "      <td>2.334207</td>\n",
              "      <td>6.207982</td>\n",
              "      <td>1.579536</td>\n",
              "      <td>2.465905</td>\n",
              "      <td>-0.072766</td>\n",
              "      <td>3.088876</td>\n",
              "      <td>0.225061</td>\n",
              "      <td>0.802017</td>\n",
              "      <td>1.237539</td>\n",
              "      <td>-1.190049</td>\n",
              "      <td>-0.462817</td>\n",
              "      <td>-0.030849</td>\n",
              "      <td>-0.142735</td>\n",
              "      <td>-0.142939</td>\n",
              "      <td>-0.074237</td>\n",
              "      <td>-0.458602</td>\n",
              "      <td>-0.137337</td>\n",
              "      <td>1.042321</td>\n",
              "      <td>1.466702</td>\n",
              "      <td>-0.298299</td>\n",
              "      <td>1.231765</td>\n",
              "      <td>-0.940682</td>\n",
              "      <td>-0.328966</td>\n",
              "      <td>-0.317248</td>\n",
              "      <td>2.019431</td>\n",
              "      <td>-0.287949</td>\n",
              "      <td>-0.281405</td>\n",
              "      <td>-0.312958</td>\n",
              "      <td>-0.157724</td>\n",
              "      <td>-0.292817</td>\n",
              "      <td>-0.310258</td>\n",
              "      <td>-0.288176</td>\n",
              "      <td>-0.293942</td>\n",
              "      <td>3.488040</td>\n",
              "      <td>-0.294391</td>\n",
              "      <td>-0.299853</td>\n",
              "      <td>-0.319379</td>\n",
              "    </tr>\n",
              "    <tr>\n",
              "      <th>5271</th>\n",
              "      <td>1.283233</td>\n",
              "      <td>0.217588</td>\n",
              "      <td>-0.28729</td>\n",
              "      <td>-0.347533</td>\n",
              "      <td>0.229324</td>\n",
              "      <td>-0.166126</td>\n",
              "      <td>-0.669902</td>\n",
              "      <td>-0.060402</td>\n",
              "      <td>-0.072766</td>\n",
              "      <td>0.812236</td>\n",
              "      <td>0.225061</td>\n",
              "      <td>0.802017</td>\n",
              "      <td>-0.808055</td>\n",
              "      <td>0.840302</td>\n",
              "      <td>-0.462817</td>\n",
              "      <td>-0.030849</td>\n",
              "      <td>-0.142735</td>\n",
              "      <td>-0.142939</td>\n",
              "      <td>-0.074237</td>\n",
              "      <td>-0.458602</td>\n",
              "      <td>-0.137337</td>\n",
              "      <td>-0.610812</td>\n",
              "      <td>1.466702</td>\n",
              "      <td>-0.298299</td>\n",
              "      <td>1.231765</td>\n",
              "      <td>-0.940682</td>\n",
              "      <td>-0.328966</td>\n",
              "      <td>3.152107</td>\n",
              "      <td>-0.495189</td>\n",
              "      <td>-0.287949</td>\n",
              "      <td>-0.281405</td>\n",
              "      <td>-0.312958</td>\n",
              "      <td>-0.157724</td>\n",
              "      <td>-0.292817</td>\n",
              "      <td>3.223125</td>\n",
              "      <td>-0.288176</td>\n",
              "      <td>-0.293942</td>\n",
              "      <td>-0.286694</td>\n",
              "      <td>-0.294391</td>\n",
              "      <td>-0.299853</td>\n",
              "      <td>-0.319379</td>\n",
              "    </tr>\n",
              "    <tr>\n",
              "      <th>21283</th>\n",
              "      <td>-1.314956</td>\n",
              "      <td>-0.355603</td>\n",
              "      <td>-0.28729</td>\n",
              "      <td>-0.591356</td>\n",
              "      <td>-0.355366</td>\n",
              "      <td>-0.166126</td>\n",
              "      <td>-0.966782</td>\n",
              "      <td>-0.060402</td>\n",
              "      <td>-0.072766</td>\n",
              "      <td>-0.570011</td>\n",
              "      <td>0.225061</td>\n",
              "      <td>0.802017</td>\n",
              "      <td>-0.808055</td>\n",
              "      <td>0.840302</td>\n",
              "      <td>-0.462817</td>\n",
              "      <td>-0.030849</td>\n",
              "      <td>-0.142735</td>\n",
              "      <td>-0.142939</td>\n",
              "      <td>-0.074237</td>\n",
              "      <td>-0.458602</td>\n",
              "      <td>-0.137337</td>\n",
              "      <td>-1.144081</td>\n",
              "      <td>1.466702</td>\n",
              "      <td>-0.298299</td>\n",
              "      <td>1.231765</td>\n",
              "      <td>-0.940682</td>\n",
              "      <td>3.039827</td>\n",
              "      <td>-0.317248</td>\n",
              "      <td>-0.495189</td>\n",
              "      <td>-0.287949</td>\n",
              "      <td>-0.281405</td>\n",
              "      <td>-0.312958</td>\n",
              "      <td>-0.157724</td>\n",
              "      <td>-0.292817</td>\n",
              "      <td>-0.310258</td>\n",
              "      <td>-0.288176</td>\n",
              "      <td>3.402035</td>\n",
              "      <td>-0.286694</td>\n",
              "      <td>-0.294391</td>\n",
              "      <td>-0.299853</td>\n",
              "      <td>-0.319379</td>\n",
              "    </tr>\n",
              "  </tbody>\n",
              "</table>\n",
              "<p>17880 rows × 41 columns</p>\n",
              "</div>"
            ],
            "text/plain": [
              "            age  deposits  ...  zodiac_sign_Taurus  zodiac_sign_Virgo\n",
              "11695 -0.615443 -0.355603  ...           -0.299853          -0.319379\n",
              "19766 -0.415583 -0.355603  ...           -0.299853          -0.319379\n",
              "8354   0.283930 -0.355603  ...           -0.299853           3.131074\n",
              "17883  0.583721 -0.355603  ...            3.334971          -0.319379\n",
              "25149 -0.815304 -0.240965  ...           -0.299853          -0.319379\n",
              "...         ...       ...  ...                 ...                ...\n",
              "856    1.283233 -0.355603  ...           -0.299853          -0.319379\n",
              "15423  1.383163 -0.355603  ...           -0.299853          -0.319379\n",
              "4097   0.983442  2.395715  ...           -0.299853          -0.319379\n",
              "5271   1.283233  0.217588  ...           -0.299853          -0.319379\n",
              "21283 -1.314956 -0.355603  ...           -0.299853          -0.319379\n",
              "\n",
              "[17880 rows x 41 columns]"
            ]
          },
          "metadata": {
            "tags": []
          },
          "execution_count": 13
        }
      ]
    },
    {
      "cell_type": "code",
      "metadata": {
        "colab": {
          "base_uri": "https://localhost:8080/",
          "height": 427
        },
        "id": "SUsqGxIFBgZO",
        "outputId": "658dd9ad-f145-4772-8eee-75f092ce5e0e"
      },
      "source": [
        "X_test"
      ],
      "execution_count": 14,
      "outputs": [
        {
          "output_type": "execute_result",
          "data": {
            "text/html": [
              "<div>\n",
              "<style scoped>\n",
              "    .dataframe tbody tr th:only-of-type {\n",
              "        vertical-align: middle;\n",
              "    }\n",
              "\n",
              "    .dataframe tbody tr th {\n",
              "        vertical-align: top;\n",
              "    }\n",
              "\n",
              "    .dataframe thead th {\n",
              "        text-align: right;\n",
              "    }\n",
              "</style>\n",
              "<table border=\"1\" class=\"dataframe\">\n",
              "  <thead>\n",
              "    <tr style=\"text-align: right;\">\n",
              "      <th></th>\n",
              "      <th>age</th>\n",
              "      <th>deposits</th>\n",
              "      <th>withdrawal</th>\n",
              "      <th>purchases_partners</th>\n",
              "      <th>purchases</th>\n",
              "      <th>cc_taken</th>\n",
              "      <th>cc_recommended</th>\n",
              "      <th>cc_disliked</th>\n",
              "      <th>cc_liked</th>\n",
              "      <th>cc_application_begin</th>\n",
              "      <th>app_downloaded</th>\n",
              "      <th>web_user</th>\n",
              "      <th>ios_user</th>\n",
              "      <th>android_user</th>\n",
              "      <th>registered_phones</th>\n",
              "      <th>waiting_4_loan</th>\n",
              "      <th>cancelled_loan</th>\n",
              "      <th>received_loan</th>\n",
              "      <th>rejected_loan</th>\n",
              "      <th>left_for_two_month_plus</th>\n",
              "      <th>left_for_one_month</th>\n",
              "      <th>reward_rate</th>\n",
              "      <th>is_referred</th>\n",
              "      <th>housing_O</th>\n",
              "      <th>housing_R</th>\n",
              "      <th>payment_type_Bi-Weekly</th>\n",
              "      <th>payment_type_Monthly</th>\n",
              "      <th>payment_type_Semi-Monthly</th>\n",
              "      <th>payment_type_Weekly</th>\n",
              "      <th>zodiac_sign_Aquarius</th>\n",
              "      <th>zodiac_sign_Aries</th>\n",
              "      <th>zodiac_sign_Cancer</th>\n",
              "      <th>zodiac_sign_Capricorn</th>\n",
              "      <th>zodiac_sign_Gemini</th>\n",
              "      <th>zodiac_sign_Leo</th>\n",
              "      <th>zodiac_sign_Libra</th>\n",
              "      <th>zodiac_sign_Pisces</th>\n",
              "      <th>zodiac_sign_Sagittarius</th>\n",
              "      <th>zodiac_sign_Scorpio</th>\n",
              "      <th>zodiac_sign_Taurus</th>\n",
              "      <th>zodiac_sign_Virgo</th>\n",
              "    </tr>\n",
              "  </thead>\n",
              "  <tbody>\n",
              "    <tr>\n",
              "      <th>2834</th>\n",
              "      <td>-0.015861</td>\n",
              "      <td>0.905418</td>\n",
              "      <td>-0.287290</td>\n",
              "      <td>-0.615739</td>\n",
              "      <td>0.930952</td>\n",
              "      <td>1.958577</td>\n",
              "      <td>1.248401</td>\n",
              "      <td>-0.060402</td>\n",
              "      <td>-0.072766</td>\n",
              "      <td>1.869247</td>\n",
              "      <td>0.225061</td>\n",
              "      <td>-1.246856</td>\n",
              "      <td>-0.808055</td>\n",
              "      <td>0.840302</td>\n",
              "      <td>-0.462817</td>\n",
              "      <td>-0.030849</td>\n",
              "      <td>-0.142735</td>\n",
              "      <td>-0.142939</td>\n",
              "      <td>-0.074237</td>\n",
              "      <td>-0.458602</td>\n",
              "      <td>-0.137337</td>\n",
              "      <td>0.948999</td>\n",
              "      <td>-0.681802</td>\n",
              "      <td>-0.298299</td>\n",
              "      <td>-0.811843</td>\n",
              "      <td>-0.940682</td>\n",
              "      <td>-0.328966</td>\n",
              "      <td>-0.317248</td>\n",
              "      <td>2.019431</td>\n",
              "      <td>-0.287949</td>\n",
              "      <td>-0.281405</td>\n",
              "      <td>-0.312958</td>\n",
              "      <td>-0.157724</td>\n",
              "      <td>-0.292817</td>\n",
              "      <td>-0.310258</td>\n",
              "      <td>-0.288176</td>\n",
              "      <td>-0.293942</td>\n",
              "      <td>3.488040</td>\n",
              "      <td>-0.294391</td>\n",
              "      <td>-0.299853</td>\n",
              "      <td>-0.319379</td>\n",
              "    </tr>\n",
              "    <tr>\n",
              "      <th>21018</th>\n",
              "      <td>-0.715374</td>\n",
              "      <td>-0.355603</td>\n",
              "      <td>-0.287290</td>\n",
              "      <td>2.480811</td>\n",
              "      <td>-0.355366</td>\n",
              "      <td>-0.166126</td>\n",
              "      <td>1.716558</td>\n",
              "      <td>-0.060402</td>\n",
              "      <td>-0.072766</td>\n",
              "      <td>-0.407393</td>\n",
              "      <td>0.225061</td>\n",
              "      <td>0.802017</td>\n",
              "      <td>-0.808055</td>\n",
              "      <td>0.840302</td>\n",
              "      <td>-0.462817</td>\n",
              "      <td>-0.030849</td>\n",
              "      <td>-0.142735</td>\n",
              "      <td>-0.142939</td>\n",
              "      <td>13.470300</td>\n",
              "      <td>-0.458602</td>\n",
              "      <td>-0.137337</td>\n",
              "      <td>1.082316</td>\n",
              "      <td>-0.681802</td>\n",
              "      <td>-0.298299</td>\n",
              "      <td>1.231765</td>\n",
              "      <td>1.063058</td>\n",
              "      <td>-0.328966</td>\n",
              "      <td>-0.317248</td>\n",
              "      <td>-0.495189</td>\n",
              "      <td>-0.287949</td>\n",
              "      <td>-0.281405</td>\n",
              "      <td>-0.312958</td>\n",
              "      <td>-0.157724</td>\n",
              "      <td>3.415097</td>\n",
              "      <td>-0.310258</td>\n",
              "      <td>-0.288176</td>\n",
              "      <td>-0.293942</td>\n",
              "      <td>-0.286694</td>\n",
              "      <td>-0.294391</td>\n",
              "      <td>-0.299853</td>\n",
              "      <td>-0.319379</td>\n",
              "    </tr>\n",
              "    <tr>\n",
              "      <th>5590</th>\n",
              "      <td>1.483094</td>\n",
              "      <td>0.905418</td>\n",
              "      <td>1.605741</td>\n",
              "      <td>-0.640121</td>\n",
              "      <td>0.930952</td>\n",
              "      <td>-0.166126</td>\n",
              "      <td>0.437689</td>\n",
              "      <td>2.465905</td>\n",
              "      <td>-0.072766</td>\n",
              "      <td>2.194482</td>\n",
              "      <td>0.225061</td>\n",
              "      <td>-1.246856</td>\n",
              "      <td>-0.808055</td>\n",
              "      <td>0.840302</td>\n",
              "      <td>-0.462817</td>\n",
              "      <td>-0.030849</td>\n",
              "      <td>-0.142735</td>\n",
              "      <td>-0.142939</td>\n",
              "      <td>-0.074237</td>\n",
              "      <td>-0.458602</td>\n",
              "      <td>-0.137337</td>\n",
              "      <td>0.948999</td>\n",
              "      <td>1.466702</td>\n",
              "      <td>-0.298299</td>\n",
              "      <td>1.231765</td>\n",
              "      <td>1.063058</td>\n",
              "      <td>-0.328966</td>\n",
              "      <td>-0.317248</td>\n",
              "      <td>-0.495189</td>\n",
              "      <td>-0.287949</td>\n",
              "      <td>-0.281405</td>\n",
              "      <td>-0.312958</td>\n",
              "      <td>-0.157724</td>\n",
              "      <td>-0.292817</td>\n",
              "      <td>-0.310258</td>\n",
              "      <td>-0.288176</td>\n",
              "      <td>-0.293942</td>\n",
              "      <td>-0.286694</td>\n",
              "      <td>-0.294391</td>\n",
              "      <td>3.334971</td>\n",
              "      <td>-0.319379</td>\n",
              "    </tr>\n",
              "    <tr>\n",
              "      <th>15769</th>\n",
              "      <td>0.084069</td>\n",
              "      <td>-0.355603</td>\n",
              "      <td>-0.287290</td>\n",
              "      <td>-0.445063</td>\n",
              "      <td>-0.355366</td>\n",
              "      <td>-0.166126</td>\n",
              "      <td>-1.001038</td>\n",
              "      <td>-0.060402</td>\n",
              "      <td>-0.072766</td>\n",
              "      <td>-0.570011</td>\n",
              "      <td>0.225061</td>\n",
              "      <td>-1.246856</td>\n",
              "      <td>1.237539</td>\n",
              "      <td>-1.190049</td>\n",
              "      <td>1.693579</td>\n",
              "      <td>-0.030849</td>\n",
              "      <td>-0.142735</td>\n",
              "      <td>-0.142939</td>\n",
              "      <td>-0.074237</td>\n",
              "      <td>-0.458602</td>\n",
              "      <td>-0.137337</td>\n",
              "      <td>-0.517490</td>\n",
              "      <td>1.466702</td>\n",
              "      <td>-0.298299</td>\n",
              "      <td>-0.811843</td>\n",
              "      <td>-0.940682</td>\n",
              "      <td>-0.328966</td>\n",
              "      <td>-0.317248</td>\n",
              "      <td>2.019431</td>\n",
              "      <td>-0.287949</td>\n",
              "      <td>-0.281405</td>\n",
              "      <td>-0.312958</td>\n",
              "      <td>6.340202</td>\n",
              "      <td>-0.292817</td>\n",
              "      <td>-0.310258</td>\n",
              "      <td>-0.288176</td>\n",
              "      <td>-0.293942</td>\n",
              "      <td>-0.286694</td>\n",
              "      <td>-0.294391</td>\n",
              "      <td>-0.299853</td>\n",
              "      <td>-0.319379</td>\n",
              "    </tr>\n",
              "    <tr>\n",
              "      <th>15120</th>\n",
              "      <td>-1.015165</td>\n",
              "      <td>0.332226</td>\n",
              "      <td>-0.287290</td>\n",
              "      <td>3.187898</td>\n",
              "      <td>0.346262</td>\n",
              "      <td>-0.166126</td>\n",
              "      <td>1.750813</td>\n",
              "      <td>-0.060402</td>\n",
              "      <td>-0.072766</td>\n",
              "      <td>2.113173</td>\n",
              "      <td>0.225061</td>\n",
              "      <td>0.802017</td>\n",
              "      <td>1.237539</td>\n",
              "      <td>-1.190049</td>\n",
              "      <td>-0.462817</td>\n",
              "      <td>-0.030849</td>\n",
              "      <td>-0.142735</td>\n",
              "      <td>-0.142939</td>\n",
              "      <td>-0.074237</td>\n",
              "      <td>2.180538</td>\n",
              "      <td>-0.137337</td>\n",
              "      <td>1.348951</td>\n",
              "      <td>1.466702</td>\n",
              "      <td>-0.298299</td>\n",
              "      <td>1.231765</td>\n",
              "      <td>1.063058</td>\n",
              "      <td>-0.328966</td>\n",
              "      <td>-0.317248</td>\n",
              "      <td>-0.495189</td>\n",
              "      <td>-0.287949</td>\n",
              "      <td>-0.281405</td>\n",
              "      <td>-0.312958</td>\n",
              "      <td>-0.157724</td>\n",
              "      <td>-0.292817</td>\n",
              "      <td>3.223125</td>\n",
              "      <td>-0.288176</td>\n",
              "      <td>-0.293942</td>\n",
              "      <td>-0.286694</td>\n",
              "      <td>-0.294391</td>\n",
              "      <td>-0.299853</td>\n",
              "      <td>-0.319379</td>\n",
              "    </tr>\n",
              "    <tr>\n",
              "      <th>...</th>\n",
              "      <td>...</td>\n",
              "      <td>...</td>\n",
              "      <td>...</td>\n",
              "      <td>...</td>\n",
              "      <td>...</td>\n",
              "      <td>...</td>\n",
              "      <td>...</td>\n",
              "      <td>...</td>\n",
              "      <td>...</td>\n",
              "      <td>...</td>\n",
              "      <td>...</td>\n",
              "      <td>...</td>\n",
              "      <td>...</td>\n",
              "      <td>...</td>\n",
              "      <td>...</td>\n",
              "      <td>...</td>\n",
              "      <td>...</td>\n",
              "      <td>...</td>\n",
              "      <td>...</td>\n",
              "      <td>...</td>\n",
              "      <td>...</td>\n",
              "      <td>...</td>\n",
              "      <td>...</td>\n",
              "      <td>...</td>\n",
              "      <td>...</td>\n",
              "      <td>...</td>\n",
              "      <td>...</td>\n",
              "      <td>...</td>\n",
              "      <td>...</td>\n",
              "      <td>...</td>\n",
              "      <td>...</td>\n",
              "      <td>...</td>\n",
              "      <td>...</td>\n",
              "      <td>...</td>\n",
              "      <td>...</td>\n",
              "      <td>...</td>\n",
              "      <td>...</td>\n",
              "      <td>...</td>\n",
              "      <td>...</td>\n",
              "      <td>...</td>\n",
              "      <td>...</td>\n",
              "    </tr>\n",
              "    <tr>\n",
              "      <th>16090</th>\n",
              "      <td>4.481004</td>\n",
              "      <td>-0.355603</td>\n",
              "      <td>-0.287290</td>\n",
              "      <td>-0.640121</td>\n",
              "      <td>-0.355366</td>\n",
              "      <td>-0.166126</td>\n",
              "      <td>-1.012456</td>\n",
              "      <td>-0.060402</td>\n",
              "      <td>-0.072766</td>\n",
              "      <td>-0.651319</td>\n",
              "      <td>0.225061</td>\n",
              "      <td>0.802017</td>\n",
              "      <td>1.237539</td>\n",
              "      <td>-1.190049</td>\n",
              "      <td>-0.462817</td>\n",
              "      <td>-0.030849</td>\n",
              "      <td>-0.142735</td>\n",
              "      <td>-0.142939</td>\n",
              "      <td>-0.074237</td>\n",
              "      <td>-0.458602</td>\n",
              "      <td>-0.137337</td>\n",
              "      <td>-1.184076</td>\n",
              "      <td>-0.681802</td>\n",
              "      <td>-0.298299</td>\n",
              "      <td>-0.811843</td>\n",
              "      <td>-0.940682</td>\n",
              "      <td>-0.328966</td>\n",
              "      <td>-0.317248</td>\n",
              "      <td>2.019431</td>\n",
              "      <td>-0.287949</td>\n",
              "      <td>-0.281405</td>\n",
              "      <td>-0.312958</td>\n",
              "      <td>-0.157724</td>\n",
              "      <td>-0.292817</td>\n",
              "      <td>-0.310258</td>\n",
              "      <td>-0.288176</td>\n",
              "      <td>-0.293942</td>\n",
              "      <td>3.488040</td>\n",
              "      <td>-0.294391</td>\n",
              "      <td>-0.299853</td>\n",
              "      <td>-0.319379</td>\n",
              "    </tr>\n",
              "    <tr>\n",
              "      <th>9851</th>\n",
              "      <td>0.583721</td>\n",
              "      <td>-0.240965</td>\n",
              "      <td>0.659226</td>\n",
              "      <td>-0.615739</td>\n",
              "      <td>-0.238428</td>\n",
              "      <td>-0.166126</td>\n",
              "      <td>-1.023875</td>\n",
              "      <td>-0.060402</td>\n",
              "      <td>-0.072766</td>\n",
              "      <td>-0.651319</td>\n",
              "      <td>0.225061</td>\n",
              "      <td>-1.246856</td>\n",
              "      <td>-0.808055</td>\n",
              "      <td>0.840302</td>\n",
              "      <td>-0.462817</td>\n",
              "      <td>-0.030849</td>\n",
              "      <td>-0.142735</td>\n",
              "      <td>-0.142939</td>\n",
              "      <td>-0.074237</td>\n",
              "      <td>-0.458602</td>\n",
              "      <td>-0.137337</td>\n",
              "      <td>-1.184076</td>\n",
              "      <td>-0.681802</td>\n",
              "      <td>-0.298299</td>\n",
              "      <td>-0.811843</td>\n",
              "      <td>-0.940682</td>\n",
              "      <td>3.039827</td>\n",
              "      <td>-0.317248</td>\n",
              "      <td>-0.495189</td>\n",
              "      <td>-0.287949</td>\n",
              "      <td>-0.281405</td>\n",
              "      <td>-0.312958</td>\n",
              "      <td>-0.157724</td>\n",
              "      <td>-0.292817</td>\n",
              "      <td>-0.310258</td>\n",
              "      <td>-0.288176</td>\n",
              "      <td>-0.293942</td>\n",
              "      <td>-0.286694</td>\n",
              "      <td>-0.294391</td>\n",
              "      <td>-0.299853</td>\n",
              "      <td>-0.319379</td>\n",
              "    </tr>\n",
              "    <tr>\n",
              "      <th>654</th>\n",
              "      <td>0.483790</td>\n",
              "      <td>-0.355603</td>\n",
              "      <td>-0.287290</td>\n",
              "      <td>-0.640121</td>\n",
              "      <td>-0.355366</td>\n",
              "      <td>1.958577</td>\n",
              "      <td>1.294075</td>\n",
              "      <td>-0.060402</td>\n",
              "      <td>-0.072766</td>\n",
              "      <td>-0.082159</td>\n",
              "      <td>0.225061</td>\n",
              "      <td>0.802017</td>\n",
              "      <td>1.237539</td>\n",
              "      <td>-1.190049</td>\n",
              "      <td>-0.462817</td>\n",
              "      <td>-0.030849</td>\n",
              "      <td>-0.142735</td>\n",
              "      <td>-0.142939</td>\n",
              "      <td>-0.074237</td>\n",
              "      <td>-0.458602</td>\n",
              "      <td>-0.137337</td>\n",
              "      <td>0.642370</td>\n",
              "      <td>-0.681802</td>\n",
              "      <td>-0.298299</td>\n",
              "      <td>1.231765</td>\n",
              "      <td>-0.940682</td>\n",
              "      <td>-0.328966</td>\n",
              "      <td>-0.317248</td>\n",
              "      <td>-0.495189</td>\n",
              "      <td>-0.287949</td>\n",
              "      <td>-0.281405</td>\n",
              "      <td>-0.312958</td>\n",
              "      <td>-0.157724</td>\n",
              "      <td>-0.292817</td>\n",
              "      <td>-0.310258</td>\n",
              "      <td>-0.288176</td>\n",
              "      <td>-0.293942</td>\n",
              "      <td>-0.286694</td>\n",
              "      <td>-0.294391</td>\n",
              "      <td>3.334971</td>\n",
              "      <td>-0.319379</td>\n",
              "    </tr>\n",
              "    <tr>\n",
              "      <th>26248</th>\n",
              "      <td>-0.515513</td>\n",
              "      <td>-0.126326</td>\n",
              "      <td>-0.287290</td>\n",
              "      <td>0.359553</td>\n",
              "      <td>-0.121490</td>\n",
              "      <td>-0.166126</td>\n",
              "      <td>-0.293093</td>\n",
              "      <td>-0.060402</td>\n",
              "      <td>-0.072766</td>\n",
              "      <td>-0.407393</td>\n",
              "      <td>0.225061</td>\n",
              "      <td>0.802017</td>\n",
              "      <td>-0.808055</td>\n",
              "      <td>0.840302</td>\n",
              "      <td>-0.462817</td>\n",
              "      <td>-0.030849</td>\n",
              "      <td>-0.142735</td>\n",
              "      <td>-0.142939</td>\n",
              "      <td>-0.074237</td>\n",
              "      <td>2.180538</td>\n",
              "      <td>-0.137337</td>\n",
              "      <td>-0.157533</td>\n",
              "      <td>-0.681802</td>\n",
              "      <td>-0.298299</td>\n",
              "      <td>-0.811843</td>\n",
              "      <td>-0.940682</td>\n",
              "      <td>3.039827</td>\n",
              "      <td>-0.317248</td>\n",
              "      <td>-0.495189</td>\n",
              "      <td>-0.287949</td>\n",
              "      <td>-0.281405</td>\n",
              "      <td>-0.312958</td>\n",
              "      <td>-0.157724</td>\n",
              "      <td>-0.292817</td>\n",
              "      <td>-0.310258</td>\n",
              "      <td>-0.288176</td>\n",
              "      <td>-0.293942</td>\n",
              "      <td>3.488040</td>\n",
              "      <td>-0.294391</td>\n",
              "      <td>-0.299853</td>\n",
              "      <td>-0.319379</td>\n",
              "    </tr>\n",
              "    <tr>\n",
              "      <th>10769</th>\n",
              "      <td>-0.015861</td>\n",
              "      <td>-0.355603</td>\n",
              "      <td>-0.287290</td>\n",
              "      <td>-0.298769</td>\n",
              "      <td>-0.355366</td>\n",
              "      <td>-0.166126</td>\n",
              "      <td>-0.784087</td>\n",
              "      <td>-0.060402</td>\n",
              "      <td>-0.072766</td>\n",
              "      <td>-0.488702</td>\n",
              "      <td>0.225061</td>\n",
              "      <td>-1.246856</td>\n",
              "      <td>-0.808055</td>\n",
              "      <td>0.840302</td>\n",
              "      <td>1.693579</td>\n",
              "      <td>-0.030849</td>\n",
              "      <td>-0.142735</td>\n",
              "      <td>-0.142939</td>\n",
              "      <td>-0.074237</td>\n",
              "      <td>-0.458602</td>\n",
              "      <td>-0.137337</td>\n",
              "      <td>-0.077543</td>\n",
              "      <td>-0.681802</td>\n",
              "      <td>-0.298299</td>\n",
              "      <td>1.231765</td>\n",
              "      <td>-0.940682</td>\n",
              "      <td>-0.328966</td>\n",
              "      <td>-0.317248</td>\n",
              "      <td>2.019431</td>\n",
              "      <td>-0.287949</td>\n",
              "      <td>-0.281405</td>\n",
              "      <td>-0.312958</td>\n",
              "      <td>-0.157724</td>\n",
              "      <td>-0.292817</td>\n",
              "      <td>-0.310258</td>\n",
              "      <td>-0.288176</td>\n",
              "      <td>-0.293942</td>\n",
              "      <td>-0.286694</td>\n",
              "      <td>-0.294391</td>\n",
              "      <td>-0.299853</td>\n",
              "      <td>-0.319379</td>\n",
              "    </tr>\n",
              "  </tbody>\n",
              "</table>\n",
              "<p>5400 rows × 41 columns</p>\n",
              "</div>"
            ],
            "text/plain": [
              "            age  deposits  ...  zodiac_sign_Taurus  zodiac_sign_Virgo\n",
              "2834  -0.015861  0.905418  ...           -0.299853          -0.319379\n",
              "21018 -0.715374 -0.355603  ...           -0.299853          -0.319379\n",
              "5590   1.483094  0.905418  ...            3.334971          -0.319379\n",
              "15769  0.084069 -0.355603  ...           -0.299853          -0.319379\n",
              "15120 -1.015165  0.332226  ...           -0.299853          -0.319379\n",
              "...         ...       ...  ...                 ...                ...\n",
              "16090  4.481004 -0.355603  ...           -0.299853          -0.319379\n",
              "9851   0.583721 -0.240965  ...           -0.299853          -0.319379\n",
              "654    0.483790 -0.355603  ...            3.334971          -0.319379\n",
              "26248 -0.515513 -0.126326  ...           -0.299853          -0.319379\n",
              "10769 -0.015861 -0.355603  ...           -0.299853          -0.319379\n",
              "\n",
              "[5400 rows x 41 columns]"
            ]
          },
          "metadata": {
            "tags": []
          },
          "execution_count": 14
        }
      ]
    },
    {
      "cell_type": "markdown",
      "metadata": {
        "id": "9fy3h79rD7L2"
      },
      "source": [
        "### **9) Model Building**"
      ]
    },
    {
      "cell_type": "markdown",
      "metadata": {
        "id": "2uX64i7JEGu-"
      },
      "source": [
        "### **9.a) Training the Logistic Regression model on the Training set**"
      ]
    },
    {
      "cell_type": "code",
      "metadata": {
        "colab": {
          "base_uri": "https://localhost:8080/"
        },
        "id": "NkutD2GYEdV4",
        "outputId": "aebaec35-f5da-400e-dbf0-e95ee5fe522c"
      },
      "source": [
        "from sklearn.linear_model import LogisticRegression\r\n",
        "classifier = LogisticRegression(random_state = 0)\r\n",
        "classifier.fit(X_train, y_train)"
      ],
      "execution_count": 15,
      "outputs": [
        {
          "output_type": "execute_result",
          "data": {
            "text/plain": [
              "LogisticRegression(C=1.0, class_weight=None, dual=False, fit_intercept=True,\n",
              "                   intercept_scaling=1, l1_ratio=None, max_iter=100,\n",
              "                   multi_class='auto', n_jobs=None, penalty='l2',\n",
              "                   random_state=0, solver='lbfgs', tol=0.0001, verbose=0,\n",
              "                   warm_start=False)"
            ]
          },
          "metadata": {
            "tags": []
          },
          "execution_count": 15
        }
      ]
    },
    {
      "cell_type": "markdown",
      "metadata": {
        "id": "lbO49pOeUium"
      },
      "source": [
        "### **9.b) Predicting the Test set**"
      ]
    },
    {
      "cell_type": "code",
      "metadata": {
        "id": "ILxOjJy9Usqz"
      },
      "source": [
        "y_pred = classifier.predict(X_test)"
      ],
      "execution_count": 16,
      "outputs": []
    },
    {
      "cell_type": "markdown",
      "metadata": {
        "id": "5Gru66ozU1ZI"
      },
      "source": [
        "### **10) Evaluating the Results**"
      ]
    },
    {
      "cell_type": "code",
      "metadata": {
        "colab": {
          "base_uri": "https://localhost:8080/"
        },
        "id": "HybgeUtzU_61",
        "outputId": "89d42d20-7bc9-4f73-e53a-74d7509112bb"
      },
      "source": [
        "from sklearn.metrics import confusion_matrix, accuracy_score, classification_report\r\n",
        "cm = confusion_matrix(y_test, y_pred)\r\n",
        "accuracy_score(y_test, y_pred)\r\n",
        "print(classification_report(y_test, y_pred))"
      ],
      "execution_count": 17,
      "outputs": [
        {
          "output_type": "stream",
          "text": [
            "              precision    recall  f1-score   support\n",
            "\n",
            "           0       0.74      0.53      0.61      3166\n",
            "           1       0.52      0.74      0.61      2234\n",
            "\n",
            "    accuracy                           0.61      5400\n",
            "   macro avg       0.63      0.63      0.61      5400\n",
            "weighted avg       0.65      0.61      0.61      5400\n",
            "\n"
          ],
          "name": "stdout"
        }
      ]
    },
    {
      "cell_type": "code",
      "metadata": {
        "colab": {
          "base_uri": "https://localhost:8080/",
          "height": 452
        },
        "id": "vby0WICqVpIP",
        "outputId": "fb1bb30a-540e-4580-8f8f-ee919da217e1"
      },
      "source": [
        "df_cm = pd.DataFrame(cm, index=(0, 1), columns=(0, 1))\r\n",
        "plt.figure(figsize=(10, 7))\r\n",
        "sns.set(font_scale=1.4)\r\n",
        "sns.heatmap(df_cm, annot=True, fmt='g')"
      ],
      "execution_count": 19,
      "outputs": [
        {
          "output_type": "execute_result",
          "data": {
            "text/plain": [
              "<matplotlib.axes._subplots.AxesSubplot at 0x7fe0fa90fe80>"
            ]
          },
          "metadata": {
            "tags": []
          },
          "execution_count": 19
        },
        {
          "output_type": "display_data",
          "data": {
            "image/png": "[encoded data removed]",
            "text/plain": [
              "<Figure size 720x504 with 2 Axes>"
            ]
          },
          "metadata": {
            "tags": []
          }
        }
      ]
    },
    {
      "cell_type": "code",
      "metadata": {
        "colab": {
          "base_uri": "https://localhost:8080/"
        },
        "id": "ce07JuqkZR9H",
        "outputId": "0e7bc432-8d94-45f0-e070-fc9637182841"
      },
      "source": [
        "print(\"Test Data Accuracy: %0.4f\" %accuracy_score(y_test, y_pred))"
      ],
      "execution_count": 20,
      "outputs": [
        {
          "output_type": "stream",
          "text": [
            "Test Data Accuracy: 0.6126\n"
          ],
          "name": "stdout"
        }
      ]
    },
    {
      "cell_type": "markdown",
      "metadata": {
        "id": "_nK7lHExZ-5n"
      },
      "source": [
        "### **11) Applying K-fold Cross Validation**"
      ]
    },
    {
      "cell_type": "code",
      "metadata": {
        "colab": {
          "base_uri": "https://localhost:8080/"
        },
        "id": "7OmLnulpaHUG",
        "outputId": "e119dc19-6985-4457-8788-b57bbedbd727"
      },
      "source": [
        "from sklearn.model_selection import cross_val_score\r\n",
        "accuracy = cross_val_score(estimator=classifier, X=X_train, y=y_train, cv=10)\r\n",
        "print(\"SVM Accuracy: %0.3f (+/-%0.3f)\" %(accuracy.mean(), accuracy.std()*2))"
      ],
      "execution_count": 23,
      "outputs": [
        {
          "output_type": "stream",
          "text": [
            "SVM Accuracy: 0.648 (+/-0.028)\n"
          ],
          "name": "stdout"
        }
      ]
    },
    {
      "cell_type": "markdown",
      "metadata": {
        "id": "mTraWvlucLER"
      },
      "source": [
        "### **12) Analyzing Co-efficients**"
      ]
    },
    {
      "cell_type": "code",
      "metadata": {
        "colab": {
          "base_uri": "https://localhost:8080/",
          "height": 1000
        },
        "id": "tksphWhkcgZF",
        "outputId": "93213169-2558-4d7e-c136-ada92c02eb8e"
      },
      "source": [
        "pd.concat([pd.DataFrame(X_train.columns, columns=[\"Features\"]), \r\n",
        "            pd.DataFrame(np.transpose(classifier.coef_), columns=[\"coef\"])], axis=1)"
      ],
      "execution_count": 26,
      "outputs": [
        {
          "output_type": "execute_result",
          "data": {
            "text/html": [
              "<div>\n",
              "<style scoped>\n",
              "    .dataframe tbody tr th:only-of-type {\n",
              "        vertical-align: middle;\n",
              "    }\n",
              "\n",
              "    .dataframe tbody tr th {\n",
              "        vertical-align: top;\n",
              "    }\n",
              "\n",
              "    .dataframe thead th {\n",
              "        text-align: right;\n",
              "    }\n",
              "</style>\n",
              "<table border=\"1\" class=\"dataframe\">\n",
              "  <thead>\n",
              "    <tr style=\"text-align: right;\">\n",
              "      <th></th>\n",
              "      <th>Features</th>\n",
              "      <th>coef</th>\n",
              "    </tr>\n",
              "  </thead>\n",
              "  <tbody>\n",
              "    <tr>\n",
              "      <th>0</th>\n",
              "      <td>age</td>\n",
              "      <td>-0.160125</td>\n",
              "    </tr>\n",
              "    <tr>\n",
              "      <th>1</th>\n",
              "      <td>deposits</td>\n",
              "      <td>0.616553</td>\n",
              "    </tr>\n",
              "    <tr>\n",
              "      <th>2</th>\n",
              "      <td>withdrawal</td>\n",
              "      <td>0.030684</td>\n",
              "    </tr>\n",
              "    <tr>\n",
              "      <th>3</th>\n",
              "      <td>purchases_partners</td>\n",
              "      <td>-0.730355</td>\n",
              "    </tr>\n",
              "    <tr>\n",
              "      <th>4</th>\n",
              "      <td>purchases</td>\n",
              "      <td>-0.719906</td>\n",
              "    </tr>\n",
              "    <tr>\n",
              "      <th>5</th>\n",
              "      <td>cc_taken</td>\n",
              "      <td>0.069197</td>\n",
              "    </tr>\n",
              "    <tr>\n",
              "      <th>6</th>\n",
              "      <td>cc_recommended</td>\n",
              "      <td>0.100539</td>\n",
              "    </tr>\n",
              "    <tr>\n",
              "      <th>7</th>\n",
              "      <td>cc_disliked</td>\n",
              "      <td>-0.000427</td>\n",
              "    </tr>\n",
              "    <tr>\n",
              "      <th>8</th>\n",
              "      <td>cc_liked</td>\n",
              "      <td>0.038043</td>\n",
              "    </tr>\n",
              "    <tr>\n",
              "      <th>9</th>\n",
              "      <td>cc_application_begin</td>\n",
              "      <td>0.006744</td>\n",
              "    </tr>\n",
              "    <tr>\n",
              "      <th>10</th>\n",
              "      <td>app_downloaded</td>\n",
              "      <td>-0.018418</td>\n",
              "    </tr>\n",
              "    <tr>\n",
              "      <th>11</th>\n",
              "      <td>web_user</td>\n",
              "      <td>0.130932</td>\n",
              "    </tr>\n",
              "    <tr>\n",
              "      <th>12</th>\n",
              "      <td>ios_user</td>\n",
              "      <td>0.073456</td>\n",
              "    </tr>\n",
              "    <tr>\n",
              "      <th>13</th>\n",
              "      <td>android_user</td>\n",
              "      <td>-0.013072</td>\n",
              "    </tr>\n",
              "    <tr>\n",
              "      <th>14</th>\n",
              "      <td>registered_phones</td>\n",
              "      <td>0.105169</td>\n",
              "    </tr>\n",
              "    <tr>\n",
              "      <th>15</th>\n",
              "      <td>waiting_4_loan</td>\n",
              "      <td>-0.021709</td>\n",
              "    </tr>\n",
              "    <tr>\n",
              "      <th>16</th>\n",
              "      <td>cancelled_loan</td>\n",
              "      <td>0.087541</td>\n",
              "    </tr>\n",
              "    <tr>\n",
              "      <th>17</th>\n",
              "      <td>received_loan</td>\n",
              "      <td>0.096693</td>\n",
              "    </tr>\n",
              "    <tr>\n",
              "      <th>18</th>\n",
              "      <td>rejected_loan</td>\n",
              "      <td>0.106330</td>\n",
              "    </tr>\n",
              "    <tr>\n",
              "      <th>19</th>\n",
              "      <td>left_for_two_month_plus</td>\n",
              "      <td>0.047451</td>\n",
              "    </tr>\n",
              "    <tr>\n",
              "      <th>20</th>\n",
              "      <td>left_for_one_month</td>\n",
              "      <td>0.054912</td>\n",
              "    </tr>\n",
              "    <tr>\n",
              "      <th>21</th>\n",
              "      <td>reward_rate</td>\n",
              "      <td>-0.231016</td>\n",
              "    </tr>\n",
              "    <tr>\n",
              "      <th>22</th>\n",
              "      <td>is_referred</td>\n",
              "      <td>0.000168</td>\n",
              "    </tr>\n",
              "    <tr>\n",
              "      <th>23</th>\n",
              "      <td>housing_O</td>\n",
              "      <td>-0.047942</td>\n",
              "    </tr>\n",
              "    <tr>\n",
              "      <th>24</th>\n",
              "      <td>housing_R</td>\n",
              "      <td>0.054861</td>\n",
              "    </tr>\n",
              "    <tr>\n",
              "      <th>25</th>\n",
              "      <td>payment_type_Bi-Weekly</td>\n",
              "      <td>-0.033342</td>\n",
              "    </tr>\n",
              "    <tr>\n",
              "      <th>26</th>\n",
              "      <td>payment_type_Monthly</td>\n",
              "      <td>0.008037</td>\n",
              "    </tr>\n",
              "    <tr>\n",
              "      <th>27</th>\n",
              "      <td>payment_type_Semi-Monthly</td>\n",
              "      <td>-0.036616</td>\n",
              "    </tr>\n",
              "    <tr>\n",
              "      <th>28</th>\n",
              "      <td>payment_type_Weekly</td>\n",
              "      <td>0.067556</td>\n",
              "    </tr>\n",
              "    <tr>\n",
              "      <th>29</th>\n",
              "      <td>zodiac_sign_Aquarius</td>\n",
              "      <td>0.005851</td>\n",
              "    </tr>\n",
              "    <tr>\n",
              "      <th>30</th>\n",
              "      <td>zodiac_sign_Aries</td>\n",
              "      <td>0.037505</td>\n",
              "    </tr>\n",
              "    <tr>\n",
              "      <th>31</th>\n",
              "      <td>zodiac_sign_Cancer</td>\n",
              "      <td>0.020658</td>\n",
              "    </tr>\n",
              "    <tr>\n",
              "      <th>32</th>\n",
              "      <td>zodiac_sign_Capricorn</td>\n",
              "      <td>0.042960</td>\n",
              "    </tr>\n",
              "    <tr>\n",
              "      <th>33</th>\n",
              "      <td>zodiac_sign_Gemini</td>\n",
              "      <td>0.002970</td>\n",
              "    </tr>\n",
              "    <tr>\n",
              "      <th>34</th>\n",
              "      <td>zodiac_sign_Leo</td>\n",
              "      <td>0.011464</td>\n",
              "    </tr>\n",
              "    <tr>\n",
              "      <th>35</th>\n",
              "      <td>zodiac_sign_Libra</td>\n",
              "      <td>0.019927</td>\n",
              "    </tr>\n",
              "    <tr>\n",
              "      <th>36</th>\n",
              "      <td>zodiac_sign_Pisces</td>\n",
              "      <td>0.037479</td>\n",
              "    </tr>\n",
              "    <tr>\n",
              "      <th>37</th>\n",
              "      <td>zodiac_sign_Sagittarius</td>\n",
              "      <td>0.029158</td>\n",
              "    </tr>\n",
              "    <tr>\n",
              "      <th>38</th>\n",
              "      <td>zodiac_sign_Scorpio</td>\n",
              "      <td>0.001724</td>\n",
              "    </tr>\n",
              "    <tr>\n",
              "      <th>39</th>\n",
              "      <td>zodiac_sign_Taurus</td>\n",
              "      <td>0.006922</td>\n",
              "    </tr>\n",
              "    <tr>\n",
              "      <th>40</th>\n",
              "      <td>zodiac_sign_Virgo</td>\n",
              "      <td>0.014910</td>\n",
              "    </tr>\n",
              "  </tbody>\n",
              "</table>\n",
              "</div>"
            ],
            "text/plain": [
              "                     Features      coef\n",
              "0                         age -0.160125\n",
              "1                    deposits  0.616553\n",
              "2                  withdrawal  0.030684\n",
              "3          purchases_partners -0.730355\n",
              "4                   purchases -0.719906\n",
              "5                    cc_taken  0.069197\n",
              "6              cc_recommended  0.100539\n",
              "7                 cc_disliked -0.000427\n",
              "8                    cc_liked  0.038043\n",
              "9        cc_application_begin  0.006744\n",
              "10             app_downloaded -0.018418\n",
              "11                   web_user  0.130932\n",
              "12                   ios_user  0.073456\n",
              "13               android_user -0.013072\n",
              "14          registered_phones  0.105169\n",
              "15             waiting_4_loan -0.021709\n",
              "16             cancelled_loan  0.087541\n",
              "17              received_loan  0.096693\n",
              "18              rejected_loan  0.106330\n",
              "19    left_for_two_month_plus  0.047451\n",
              "20         left_for_one_month  0.054912\n",
              "21                reward_rate -0.231016\n",
              "22                is_referred  0.000168\n",
              "23                  housing_O -0.047942\n",
              "24                  housing_R  0.054861\n",
              "25     payment_type_Bi-Weekly -0.033342\n",
              "26       payment_type_Monthly  0.008037\n",
              "27  payment_type_Semi-Monthly -0.036616\n",
              "28        payment_type_Weekly  0.067556\n",
              "29       zodiac_sign_Aquarius  0.005851\n",
              "30          zodiac_sign_Aries  0.037505\n",
              "31         zodiac_sign_Cancer  0.020658\n",
              "32      zodiac_sign_Capricorn  0.042960\n",
              "33         zodiac_sign_Gemini  0.002970\n",
              "34            zodiac_sign_Leo  0.011464\n",
              "35          zodiac_sign_Libra  0.019927\n",
              "36         zodiac_sign_Pisces  0.037479\n",
              "37    zodiac_sign_Sagittarius  0.029158\n",
              "38        zodiac_sign_Scorpio  0.001724\n",
              "39         zodiac_sign_Taurus  0.006922\n",
              "40          zodiac_sign_Virgo  0.014910"
            ]
          },
          "metadata": {
            "tags": []
          },
          "execution_count": 26
        }
      ]
    },
    {
      "cell_type": "markdown",
      "metadata": {
        "id": "ZnupHTRZgfnE"
      },
      "source": [
        "### **13) Feature Selection**"
      ]
    },
    {
      "cell_type": "markdown",
      "metadata": {
        "id": "wFVt6wySeNwX"
      },
      "source": [
        "### **13.a) Recursive Feature Elimination**"
      ]
    },
    {
      "cell_type": "code",
      "metadata": {
        "id": "s5zI2D_heXQX"
      },
      "source": [
        "from sklearn.feature_selection import RFE\r\n",
        "from sklearn.linear_model import LogisticRegression\r\n",
        "classifier = LogisticRegression()\r\n",
        "rfe = RFE(classifier, 20)\r\n",
        "rfe = rfe.fit(X_train, y_train)"
      ],
      "execution_count": 27,
      "outputs": []
    },
    {
      "cell_type": "code",
      "metadata": {
        "colab": {
          "base_uri": "https://localhost:8080/"
        },
        "id": "2XkmcBD9ejee",
        "outputId": "e7a7ee71-00e2-4a1d-c844-f1eef74edf7c"
      },
      "source": [
        "print(rfe.support_)\r\n",
        "print(rfe.ranking_)\r\n",
        "X_train.columns[rfe.support_]\r\n"
      ],
      "execution_count": 28,
      "outputs": [
        {
          "output_type": "stream",
          "text": [
            "[ True  True False  True  True  True  True False False False False  True\n",
            "  True False  True False  True  True  True  True  True  True False  True\n",
            "  True  True False  True  True False False False False False False False\n",
            " False False False False False]\n",
            "[ 1  1  4  1  1  1  1 21  2 16  7  1  1 12  1  8  1  1  1  1  1  1 22  1\n",
            "  1  1 14  1  1 18  5 10  3 19 15 11  6  9 20 17 13]\n"
          ],
          "name": "stdout"
        },
        {
          "output_type": "execute_result",
          "data": {
            "text/plain": [
              "Index(['age', 'deposits', 'purchases_partners', 'purchases', 'cc_taken',\n",
              "       'cc_recommended', 'web_user', 'ios_user', 'registered_phones',\n",
              "       'cancelled_loan', 'received_loan', 'rejected_loan',\n",
              "       'left_for_two_month_plus', 'left_for_one_month', 'reward_rate',\n",
              "       'housing_O', 'housing_R', 'payment_type_Bi-Weekly',\n",
              "       'payment_type_Semi-Monthly', 'payment_type_Weekly'],\n",
              "      dtype='object')"
            ]
          },
          "metadata": {
            "tags": []
          },
          "execution_count": 28
        }
      ]
    },
    {
      "cell_type": "markdown",
      "metadata": {
        "id": "26qSeJdqgTW4"
      },
      "source": [
        "### **13.b) New Correlational Matrix**"
      ]
    },
    {
      "cell_type": "code",
      "metadata": {
        "id": "dZcjlZqRgvuX"
      },
      "source": [
        "sns.set(style=\"white\")"
      ],
      "execution_count": 30,
      "outputs": []
    },
    {
      "cell_type": "code",
      "metadata": {
        "id": "_oyj-y82g9ax"
      },
      "source": [
        "corr = X_train[X_train.columns[rfe.support_]].corr()"
      ],
      "execution_count": 31,
      "outputs": []
    },
    {
      "cell_type": "code",
      "metadata": {
        "id": "aX_Q_c8ThBGH"
      },
      "source": [
        "mask = np.zeros_like(corr, dtype=np.bool)\r\n",
        "mask[np.triu_indices_from(mask)] = True"
      ],
      "execution_count": 32,
      "outputs": []
    },
    {
      "cell_type": "code",
      "metadata": {
        "id": "f5PeK_U_hEJ2"
      },
      "source": [
        "f, ax = plt.subplots(figsize=(18, 15))"
      ],
      "execution_count": null,
      "outputs": []
    },
    {
      "cell_type": "code",
      "metadata": {
        "id": "v_c_c5o_hLO_"
      },
      "source": [
        "cmap = sns.diverging_palette(220, 10, as_cmap=True)"
      ],
      "execution_count": 34,
      "outputs": []
    },
    {
      "cell_type": "code",
      "metadata": {
        "colab": {
          "base_uri": "https://localhost:8080/",
          "height": 435
        },
        "id": "A8UB1SIKhQWH",
        "outputId": "7aa3ba74-c737-4e85-cd00-e78b51dcb710"
      },
      "source": [
        "sns.heatmap(corr, mask=mask, cmap=cmap, vmax=.3, center=0,\r\n",
        "            square=True, linewidths=.5, cbar_kws={\"shrink\": .5})    \r\n"
      ],
      "execution_count": 35,
      "outputs": [
        {
          "output_type": "execute_result",
          "data": {
            "text/plain": [
              "<matplotlib.axes._subplots.AxesSubplot at 0x7fe0f147cfd0>"
            ]
          },
          "metadata": {
            "tags": []
          },
          "execution_count": 35
        },
        {
          "output_type": "display_data",
          "data": {
            "image/png": "[encoded data removed]",
            "text/plain": [
              "<Figure size 432x288 with 2 Axes>"
            ]
          },
          "metadata": {
            "tags": []
          }
        }
      ]
    },
    {
      "cell_type": "markdown",
      "metadata": {
        "id": "pKYVtBnqhpRR"
      },
      "source": [
        "### **14) Fitting the model to the Training set**"
      ]
    },
    {
      "cell_type": "code",
      "metadata": {
        "colab": {
          "base_uri": "https://localhost:8080/"
        },
        "id": "uZK8DFrQh4tL",
        "outputId": "4a25c0e5-99c8-4fe5-a025-150dc10315ab"
      },
      "source": [
        "from sklearn.linear_model import LogisticRegression\r\n",
        "classifier = LogisticRegression()\r\n",
        "classifier.fit(X_train[X_train.columns[rfe.support_]], y_train)"
      ],
      "execution_count": 36,
      "outputs": [
        {
          "output_type": "execute_result",
          "data": {
            "text/plain": [
              "LogisticRegression(C=1.0, class_weight=None, dual=False, fit_intercept=True,\n",
              "                   intercept_scaling=1, l1_ratio=None, max_iter=100,\n",
              "                   multi_class='auto', n_jobs=None, penalty='l2',\n",
              "                   random_state=None, solver='lbfgs', tol=0.0001, verbose=0,\n",
              "                   warm_start=False)"
            ]
          },
          "metadata": {
            "tags": []
          },
          "execution_count": 36
        }
      ]
    },
    {
      "cell_type": "markdown",
      "metadata": {
        "id": "vlBTB8-4h--Z"
      },
      "source": [
        "### **15) Predicitng the Test set**"
      ]
    },
    {
      "cell_type": "code",
      "metadata": {
        "id": "KKoK-GaSiJWo"
      },
      "source": [
        "y_pred = classifier.predict(X_test[X_train.columns[rfe.support_]])"
      ],
      "execution_count": 37,
      "outputs": []
    },
    {
      "cell_type": "markdown",
      "metadata": {
        "id": "2OJeqz4GiO26"
      },
      "source": [
        "### **16) Evaluating the Model**"
      ]
    },
    {
      "cell_type": "code",
      "metadata": {
        "colab": {
          "base_uri": "https://localhost:8080/"
        },
        "id": "ElTNXkCIigdN",
        "outputId": "7d788abc-9be5-4286-da54-54e218a4e819"
      },
      "source": [
        "from sklearn.metrics import confusion_matrix, accuracy_score, classification_report\r\n",
        "cm = confusion_matrix(y_test, y_pred)\r\n",
        "accuracy_score(y_test, y_pred)\r\n",
        "print(classification_report(y_test, y_pred))"
      ],
      "execution_count": 38,
      "outputs": [
        {
          "output_type": "stream",
          "text": [
            "              precision    recall  f1-score   support\n",
            "\n",
            "           0       0.74      0.52      0.61      3166\n",
            "           1       0.52      0.74      0.61      2234\n",
            "\n",
            "    accuracy                           0.61      5400\n",
            "   macro avg       0.63      0.63      0.61      5400\n",
            "weighted avg       0.65      0.61      0.61      5400\n",
            "\n"
          ],
          "name": "stdout"
        }
      ]
    },
    {
      "cell_type": "code",
      "metadata": {
        "colab": {
          "base_uri": "https://localhost:8080/",
          "height": 452
        },
        "id": "iHrEI2odi0na",
        "outputId": "499f7ca0-99e2-4601-c788-35d5d050513b"
      },
      "source": [
        "df_cm = pd.DataFrame(cm, index=(0, 1), columns=(0, 1))\r\n",
        "plt.figure(figsize=(10, 7))\r\n",
        "sns.set(font_scale=1.4)\r\n",
        "sns.heatmap(df_cm, annot=True, fmt='g')"
      ],
      "execution_count": 39,
      "outputs": [
        {
          "output_type": "execute_result",
          "data": {
            "text/plain": [
              "<matplotlib.axes._subplots.AxesSubplot at 0x7fe0f137f9b0>"
            ]
          },
          "metadata": {
            "tags": []
          },
          "execution_count": 39
        },
        {
          "output_type": "display_data",
          "data": {
            "image/png": "[encoded data removed]",
            "text/plain": [
              "<Figure size 720x504 with 2 Axes>"
            ]
          },
          "metadata": {
            "tags": []
          }
        }
      ]
    },
    {
      "cell_type": "code",
      "metadata": {
        "colab": {
          "base_uri": "https://localhost:8080/"
        },
        "id": "_NIu1shai-As",
        "outputId": "4e5489c5-723a-42a4-9fb6-9949db14855b"
      },
      "source": [
        "print(\"Test Data Accuracy: %0.4f\" %accuracy_score(y_test, y_pred))"
      ],
      "execution_count": 40,
      "outputs": [
        {
          "output_type": "stream",
          "text": [
            "Test Data Accuracy: 0.6113\n"
          ],
          "name": "stdout"
        }
      ]
    },
    {
      "cell_type": "markdown",
      "metadata": {
        "id": "ZkFNbo27jNBz"
      },
      "source": [
        "### **17) Applying K-fold Cross Validation**"
      ]
    },
    {
      "cell_type": "code",
      "metadata": {
        "colab": {
          "base_uri": "https://localhost:8080/"
        },
        "id": "hCGgiPn3jYio",
        "outputId": "bc01986d-5b2e-4884-d94c-a4d7b4074d02"
      },
      "source": [
        "from sklearn.model_selection import cross_val_score\r\n",
        "accuracies = cross_val_score(estimator = classifier,\r\n",
        "                             X = X_train[X_train.columns[rfe.support_]],\r\n",
        "                             y = y_train, cv = 10)\r\n",
        "print(\"SVM Accuracy: %0.3f (+/- %0.3f)\" % (accuracies.mean(), accuracies.std() * 2))"
      ],
      "execution_count": 41,
      "outputs": [
        {
          "output_type": "stream",
          "text": [
            "SVM Accuracy: 0.646 (+/- 0.025)\n"
          ],
          "name": "stdout"
        }
      ]
    },
    {
      "cell_type": "markdown",
      "metadata": {
        "id": "q9huJAZvjhBo"
      },
      "source": [
        "### **18) Analyzing Co-efficients**"
      ]
    },
    {
      "cell_type": "code",
      "metadata": {
        "colab": {
          "base_uri": "https://localhost:8080/",
          "height": 622
        },
        "id": "8fpJ1IRljsdg",
        "outputId": "c9bd8d45-2d60-4af9-f9ad-c796a1ca8401"
      },
      "source": [
        "pd.concat([pd.DataFrame(X_train[X_train.columns[rfe.support_]].columns, columns = [\"features\"]),\r\n",
        "           pd.DataFrame(np.transpose(classifier.coef_), columns = [\"coef\"])\r\n",
        "           ],axis = 1)"
      ],
      "execution_count": 42,
      "outputs": [
        {
          "output_type": "execute_result",
          "data": {
            "text/html": [
              "<div>\n",
              "<style scoped>\n",
              "    .dataframe tbody tr th:only-of-type {\n",
              "        vertical-align: middle;\n",
              "    }\n",
              "\n",
              "    .dataframe tbody tr th {\n",
              "        vertical-align: top;\n",
              "    }\n",
              "\n",
              "    .dataframe thead th {\n",
              "        text-align: right;\n",
              "    }\n",
              "</style>\n",
              "<table border=\"1\" class=\"dataframe\">\n",
              "  <thead>\n",
              "    <tr style=\"text-align: right;\">\n",
              "      <th></th>\n",
              "      <th>features</th>\n",
              "      <th>coef</th>\n",
              "    </tr>\n",
              "  </thead>\n",
              "  <tbody>\n",
              "    <tr>\n",
              "      <th>0</th>\n",
              "      <td>age</td>\n",
              "      <td>-0.155423</td>\n",
              "    </tr>\n",
              "    <tr>\n",
              "      <th>1</th>\n",
              "      <td>deposits</td>\n",
              "      <td>0.629131</td>\n",
              "    </tr>\n",
              "    <tr>\n",
              "      <th>2</th>\n",
              "      <td>purchases_partners</td>\n",
              "      <td>-0.733280</td>\n",
              "    </tr>\n",
              "    <tr>\n",
              "      <th>3</th>\n",
              "      <td>purchases</td>\n",
              "      <td>-0.715473</td>\n",
              "    </tr>\n",
              "    <tr>\n",
              "      <th>4</th>\n",
              "      <td>cc_taken</td>\n",
              "      <td>0.076884</td>\n",
              "    </tr>\n",
              "    <tr>\n",
              "      <th>5</th>\n",
              "      <td>cc_recommended</td>\n",
              "      <td>0.107912</td>\n",
              "    </tr>\n",
              "    <tr>\n",
              "      <th>6</th>\n",
              "      <td>web_user</td>\n",
              "      <td>0.135977</td>\n",
              "    </tr>\n",
              "    <tr>\n",
              "      <th>7</th>\n",
              "      <td>ios_user</td>\n",
              "      <td>0.081951</td>\n",
              "    </tr>\n",
              "    <tr>\n",
              "      <th>8</th>\n",
              "      <td>registered_phones</td>\n",
              "      <td>0.102756</td>\n",
              "    </tr>\n",
              "    <tr>\n",
              "      <th>9</th>\n",
              "      <td>cancelled_loan</td>\n",
              "      <td>0.087722</td>\n",
              "    </tr>\n",
              "    <tr>\n",
              "      <th>10</th>\n",
              "      <td>received_loan</td>\n",
              "      <td>0.096692</td>\n",
              "    </tr>\n",
              "    <tr>\n",
              "      <th>11</th>\n",
              "      <td>rejected_loan</td>\n",
              "      <td>0.105633</td>\n",
              "    </tr>\n",
              "    <tr>\n",
              "      <th>12</th>\n",
              "      <td>left_for_two_month_plus</td>\n",
              "      <td>0.048768</td>\n",
              "    </tr>\n",
              "    <tr>\n",
              "      <th>13</th>\n",
              "      <td>left_for_one_month</td>\n",
              "      <td>0.053767</td>\n",
              "    </tr>\n",
              "    <tr>\n",
              "      <th>14</th>\n",
              "      <td>reward_rate</td>\n",
              "      <td>-0.239538</td>\n",
              "    </tr>\n",
              "    <tr>\n",
              "      <th>15</th>\n",
              "      <td>housing_O</td>\n",
              "      <td>-0.046861</td>\n",
              "    </tr>\n",
              "    <tr>\n",
              "      <th>16</th>\n",
              "      <td>housing_R</td>\n",
              "      <td>0.056270</td>\n",
              "    </tr>\n",
              "    <tr>\n",
              "      <th>17</th>\n",
              "      <td>payment_type_Bi-Weekly</td>\n",
              "      <td>-0.039254</td>\n",
              "    </tr>\n",
              "    <tr>\n",
              "      <th>18</th>\n",
              "      <td>payment_type_Semi-Monthly</td>\n",
              "      <td>-0.040897</td>\n",
              "    </tr>\n",
              "    <tr>\n",
              "      <th>19</th>\n",
              "      <td>payment_type_Weekly</td>\n",
              "      <td>0.062852</td>\n",
              "    </tr>\n",
              "  </tbody>\n",
              "</table>\n",
              "</div>"
            ],
            "text/plain": [
              "                     features      coef\n",
              "0                         age -0.155423\n",
              "1                    deposits  0.629131\n",
              "2          purchases_partners -0.733280\n",
              "3                   purchases -0.715473\n",
              "4                    cc_taken  0.076884\n",
              "5              cc_recommended  0.107912\n",
              "6                    web_user  0.135977\n",
              "7                    ios_user  0.081951\n",
              "8           registered_phones  0.102756\n",
              "9              cancelled_loan  0.087722\n",
              "10              received_loan  0.096692\n",
              "11              rejected_loan  0.105633\n",
              "12    left_for_two_month_plus  0.048768\n",
              "13         left_for_one_month  0.053767\n",
              "14                reward_rate -0.239538\n",
              "15                  housing_O -0.046861\n",
              "16                  housing_R  0.056270\n",
              "17     payment_type_Bi-Weekly -0.039254\n",
              "18  payment_type_Semi-Monthly -0.040897\n",
              "19        payment_type_Weekly  0.062852"
            ]
          },
          "metadata": {
            "tags": []
          },
          "execution_count": 42
        }
      ]
    },
    {
      "cell_type": "markdown",
      "metadata": {
        "id": "_FWf-YZ9j3JS"
      },
      "source": [
        "### **19) Formatting the Final Results**"
      ]
    },
    {
      "cell_type": "code",
      "metadata": {
        "id": "3ChyfXTtkCbJ"
      },
      "source": [
        "final_results = pd.concat([y_test, user_identifier], axis = 1).dropna()\r\n",
        "final_results['predicted_churn'] = y_pred\r\n"
      ],
      "execution_count": 44,
      "outputs": []
    },
    {
      "cell_type": "code",
      "metadata": {
        "colab": {
          "base_uri": "https://localhost:8080/"
        },
        "id": "uWpBJ5OmkTmU",
        "outputId": "cd640767-9485-4128-bf9e-6c58d576ce0f"
      },
      "source": [
        "final_results = final_results[['user', 'churn', 'predicted_churn']].reset_index(drop=True)\r\n",
        "print(final_results)"
      ],
      "execution_count": 46,
      "outputs": [
        {
          "output_type": "stream",
          "text": [
            "       user  churn  predicted_churn\n",
            "0     61353    1.0                1\n",
            "1     67679    0.0                0\n",
            "2     21269    0.0                0\n",
            "3     69531    0.0                1\n",
            "4     25997    0.0                0\n",
            "...     ...    ...              ...\n",
            "5395  22377    0.0                1\n",
            "5396  24291    1.0                1\n",
            "5397  23740    0.0                1\n",
            "5398  47663    1.0                0\n",
            "5399  52752    1.0                1\n",
            "\n",
            "[5400 rows x 3 columns]\n"
          ],
          "name": "stdout"
        }
      ]
    }
  ]
}